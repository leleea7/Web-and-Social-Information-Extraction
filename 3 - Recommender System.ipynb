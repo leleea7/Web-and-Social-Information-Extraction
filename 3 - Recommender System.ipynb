{
 "cells": [
  {
   "cell_type": "markdown",
   "metadata": {},
   "source": [
    "# Recommender System"
   ]
  },
  {
   "cell_type": "markdown",
   "metadata": {},
   "source": [
    "For our Recommender System we have write more function stored in the file reccomander_system.py. <br>\n",
    "We have chosen to implement more scoring metrics in order to evaluate the differences between them. <br>\n",
    "The logic of this functions is reported below:\n",
    "<br>"
   ]
  },
  {
   "cell_type": "markdown",
   "metadata": {},
   "source": [
    "* **init(self, preferencies, categories, s23_file)** : This function is used to instantiate an reccomender system object."
   ]
  },
  {
   "cell_type": "markdown",
   "metadata": {},
   "source": [
    "* **cosine_similarity(self, v, w):**: This function define one of our metrics of scoring. Cosine similarity assign to each user's wikipedia page a score based on his preferences. "
   ]
  },
  {
   "cell_type": "markdown",
   "metadata": {},
   "source": [
    "* **pearson_correlation(self, v, w):**: This function define one of our metrics of scoring. Pearson correlation computes the linear correlation between two variables that, in out case, are two users preferencies vector. It has a value between +1 and −1, where 1 is total positive linear correlation, 0 is no linear correlation, and −1 is total negative linear correlation."
   ]
  },
  {
   "cell_type": "markdown",
   "metadata": {},
   "source": [
    "* **eucliedean_distance(self, v, w):**: This function define one of our metrics of scoring. Euclidean distance or Euclidean metric compute the straight-line distance between two points in Euclidean space."
   ]
  },
  {
   "cell_type": "markdown",
   "metadata": {},
   "source": [
    "* **most_relevant_pages(self, user_id, metrics):** This function take in input a user_id and return the 6 page ordered by score computed by one of three metrics available."
   ]
  },
  {
   "cell_type": "code",
   "execution_count": 1,
   "metadata": {},
   "outputs": [],
   "source": [
    "from recommender_system import RecommenderSystem\n",
    "import pickle\n",
    "from itertools import islice"
   ]
  },
  {
   "cell_type": "markdown",
   "metadata": {},
   "source": [
    "In the pickle categories we have stored the mapping between one category and its ID. "
   ]
  },
  {
   "cell_type": "code",
   "execution_count": 3,
   "metadata": {},
   "outputs": [
    {
     "data": {
      "text/plain": [
       "{'1981 births': 0,\n",
       " '1987 births': 10,\n",
       " '20th-century Japanese actresses': 3,\n",
       " '21st-century Japanese actresses': 4,\n",
       " 'Actresses from Kanagawa Prefecture': 2,\n",
       " 'Ambassadors of supra-national bodies': 11,\n",
       " 'Australian Open (tennis) champions': 12,\n",
       " 'Expatriate sportspeople in the United States': 13,\n",
       " 'French Open champions': 14,\n",
       " \"Grand Slam (tennis) champions in women's singles\": 15,\n",
       " 'Guggenheim Fellows': 8,\n",
       " 'Japanese film actresses': 5,\n",
       " 'Japanese stage actresses': 6,\n",
       " 'Japanese television actresses': 7,\n",
       " 'Living people': 1,\n",
       " 'Maria Sharapova': 9,\n",
       " 'Olympic medalists in tennis': 16,\n",
       " 'Olympic silver medalists for Russia': 17,\n",
       " 'Olympic tennis players of Russia': 18,\n",
       " 'Sportspeople from Bradenton, Florida': 19}"
      ]
     },
     "execution_count": 3,
     "metadata": {},
     "output_type": "execute_result"
    }
   ],
   "source": [
    "categories = pickle.load(open('DATA/categories.pkl', 'rb'))\n",
    "first20pairs = {k: categories[k] for k in list(categories)[:20]}\n",
    "first20pairs"
   ]
  },
  {
   "cell_type": "markdown",
   "metadata": {},
   "source": [
    "In the pickle preferencies we assign to each user a one hot vector that contains 1 in the positions of the page that he likes, 0 otherwise. <br>\n",
    "On this vector is computed the cosine similarity."
   ]
  },
  {
   "cell_type": "code",
   "execution_count": 4,
   "metadata": {},
   "outputs": [
    {
     "data": {
      "text/plain": [
       "{'100618369': array([1, 1, 0, ..., 0, 0, 0], dtype=int32),\n",
       " '101684764': array([1, 1, 0, ..., 0, 0, 0], dtype=int32),\n",
       " '1018670268': array([1, 1, 0, ..., 0, 0, 0], dtype=int32),\n",
       " '101935414': array([1, 1, 1, ..., 0, 0, 0], dtype=int32),\n",
       " '101948722': array([1, 1, 0, ..., 0, 0, 0], dtype=int32),\n",
       " '1025469163': array([1, 1, 0, ..., 0, 0, 0], dtype=int32),\n",
       " '103232008': array([0, 1, 0, ..., 0, 0, 0], dtype=int32),\n",
       " '103461258': array([0, 1, 0, ..., 0, 0, 0], dtype=int32),\n",
       " '1040719962': array([0, 1, 0, ..., 0, 0, 0], dtype=int32),\n",
       " '104239528': array([1, 1, 0, ..., 0, 0, 0], dtype=int32),\n",
       " '104265805': array([0, 1, 0, ..., 0, 0, 0], dtype=int32),\n",
       " '104431004': array([1, 1, 0, ..., 0, 0, 0], dtype=int32),\n",
       " '105143827': array([0, 1, 0, ..., 0, 0, 0], dtype=int32),\n",
       " '105150125': array([0, 1, 0, ..., 0, 0, 0], dtype=int32),\n",
       " '105320169': array([0, 1, 0, ..., 0, 0, 0], dtype=int32),\n",
       " '105553307': array([1, 1, 0, ..., 0, 0, 0], dtype=int32),\n",
       " '105567943': array([1, 1, 0, ..., 0, 0, 0], dtype=int32),\n",
       " '10569722': array([1, 1, 0, ..., 0, 0, 0], dtype=int32),\n",
       " '1057516135': array([0, 1, 0, ..., 0, 0, 0], dtype=int32),\n",
       " '1058041224': array([0, 1, 0, ..., 0, 0, 0], dtype=int32)}"
      ]
     },
     "execution_count": 4,
     "metadata": {},
     "output_type": "execute_result"
    }
   ],
   "source": [
    "preferencies = pickle.load(open('DATA/preferencies.pkl', 'rb'))\n",
    "first20pairs = {k: preferencies[k] for k in list(preferencies)[:20]}\n",
    "first20pairs"
   ]
  },
  {
   "cell_type": "markdown",
   "metadata": {},
   "source": [
    "Then, we can instantiate a Recommender System object, and we can use the function **most_relevant_pages** in order to retrieve the sorted ranking of the 6 page proposed to each user in the file S23.tsv."
   ]
  },
  {
   "cell_type": "code",
   "execution_count": 5,
   "metadata": {},
   "outputs": [],
   "source": [
    "rs = RecommenderSystem(preferencies, categories, open('DATA/S23.tsv', 'r'))"
   ]
  },
  {
   "cell_type": "markdown",
   "metadata": {},
   "source": [
    "Below some example of our recommender system that suggest at each user the 3 pages with scores of all matrics based on his interest:"
   ]
  },
  {
   "cell_type": "code",
   "execution_count": 6,
   "metadata": {},
   "outputs": [
    {
     "name": "stdout",
     "output_type": "stream",
     "text": [
      "Top 3 (cosine similarity):  ['Heather_Headley', 'Jennifer_Lopez', 'Ryan_Seacrest']\n",
      "Top 3 (euclidean distance):  ['Jennifer_Lopez', 'Heather_Headley', 'Maxene_Magalona']\n",
      "Top 3 (pearson correlation):  ['Heather_Headley', 'Jennifer_Lopez', 'Ryan_Seacrest']\n"
     ]
    }
   ],
   "source": [
    "rs.most_relevant_pages('101684764', metrics = 'all')"
   ]
  },
  {
   "cell_type": "markdown",
   "metadata": {},
   "source": [
    "But if we want we can check all the scores for each metrics:"
   ]
  },
  {
   "cell_type": "code",
   "execution_count": 10,
   "metadata": {},
   "outputs": [
    {
     "data": {
      "text/plain": [
       "[(0.12893946815413682, 'Heather_Headley'),\n",
       " (0.11877671491968554, 'Jennifer_Lopez'),\n",
       " (0.11310517053068245, 'Ryan_Seacrest'),\n",
       " (0.10735733858321811, 'Maxene_Magalona'),\n",
       " (0.09552948218914535, 'Julian_Assange'),\n",
       " (0.09273288940232355, 'ITV_News_Anglia')]"
      ]
     },
     "execution_count": 10,
     "metadata": {},
     "output_type": "execute_result"
    }
   ],
   "source": [
    "rs.most_relevant_pages('101684764', metrics = 'cosine')"
   ]
  },
  {
   "cell_type": "code",
   "execution_count": 11,
   "metadata": {},
   "outputs": [
    {
     "data": {
      "text/plain": [
       "[(0.12071388481136608, 'Heather_Headley'),\n",
       " (0.1143576980106862, 'Jennifer_Lopez'),\n",
       " (0.10512785429755785, 'Ryan_Seacrest'),\n",
       " (0.09974802024396087, 'Maxene_Magalona'),\n",
       " (0.0884025629236834, 'Julian_Assange'),\n",
       " (0.08525707535796076, 'ITV_News_Anglia')]"
      ]
     },
     "execution_count": 11,
     "metadata": {},
     "output_type": "execute_result"
    }
   ],
   "source": [
    "rs.most_relevant_pages('101684764', metrics = 'pearson')"
   ]
  },
  {
   "cell_type": "code",
   "execution_count": 12,
   "metadata": {},
   "outputs": [
    {
     "data": {
      "text/plain": [
       "[(48.33218389437829, 'Jennifer_Lopez'),\n",
       " (48.569537778323564, 'Heather_Headley'),\n",
       " (48.67237409455183, 'Maxene_Magalona'),\n",
       " (48.67237409455183, 'Ryan_Seacrest'),\n",
       " (48.703182647543684, 'Julian_Assange'),\n",
       " (48.76474136094644, 'ITV_News_Anglia')]"
      ]
     },
     "execution_count": 12,
     "metadata": {},
     "output_type": "execute_result"
    }
   ],
   "source": [
    "rs.most_relevant_pages('101684764', metrics = 'euclidean')"
   ]
  },
  {
   "cell_type": "markdown",
   "metadata": {},
   "source": [
    "Below there are some examples on other users of how our recommender system works:"
   ]
  },
  {
   "cell_type": "code",
   "execution_count": 13,
   "metadata": {},
   "outputs": [
    {
     "name": "stdout",
     "output_type": "stream",
     "text": [
      "Top 3 (cosine similarity):  ['The_Beatles', 'Miki_Nadal', 'La_Terra']\n",
      "Top 3 (euclidean distance):  ['Berto_Romero', 'Damien_Rice', 'Chris_Boswell']\n",
      "Top 3 (pearson correlation):  ['The_Beatles', 'Miki_Nadal', 'La_Terra']\n"
     ]
    }
   ],
   "source": [
    "rs.most_relevant_pages('104431004', metrics = 'all')"
   ]
  },
  {
   "cell_type": "code",
   "execution_count": 14,
   "metadata": {},
   "outputs": [
    {
     "name": "stdout",
     "output_type": "stream",
     "text": [
      "Top 3 (cosine similarity):  ['Travis_Frederick', 'James_Coe', 'Tom_Upton']\n",
      "Top 3 (euclidean distance):  ['Peter_Somerville', 'John_Lavan', 'Tim_Pawlenty']\n",
      "Top 3 (pearson correlation):  ['Travis_Frederick', 'James_Coe', 'Tom_Upton']\n"
     ]
    }
   ],
   "source": [
    "rs.most_relevant_pages('10569722', metrics = 'all')"
   ]
  },
  {
   "cell_type": "code",
   "execution_count": 15,
   "metadata": {},
   "outputs": [
    {
     "name": "stdout",
     "output_type": "stream",
     "text": [
      "Top 3 (cosine similarity):  ['Sabina_Guzzanti', 'Luciano_Ligabue', 'Ivan_Basso']\n",
      "Top 3 (euclidean distance):  ['Luciano_Ligabue', 'Peter_Diamandis', 'Lovato']\n",
      "Top 3 (pearson correlation):  ['Sabina_Guzzanti', 'Luciano_Ligabue', 'Ivan_Basso']\n"
     ]
    }
   ],
   "source": [
    "rs.most_relevant_pages('104239528', metrics = 'all')"
   ]
  }
 ],
 "metadata": {
  "kernelspec": {
   "display_name": "Python 3",
   "language": "python",
   "name": "python3"
  },
  "language_info": {
   "codemirror_mode": {
    "name": "ipython",
    "version": 3
   },
   "file_extension": ".py",
   "mimetype": "text/x-python",
   "name": "python",
   "nbconvert_exporter": "python",
   "pygments_lexer": "ipython3",
   "version": "3.6.4"
  }
 },
 "nbformat": 4,
 "nbformat_minor": 2
}
