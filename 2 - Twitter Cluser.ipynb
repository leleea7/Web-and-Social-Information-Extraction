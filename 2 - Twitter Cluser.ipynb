{
 "cells": [
  {
   "cell_type": "markdown",
   "metadata": {},
   "source": [
    "# Twitter Cluster\n",
    "In this notebook file we had implemented a clusters analysis on a Twitter's profiles related of the file S21.tsv.\n",
    "After a careful evaluation of the various library that Python offers for our scope, we had choice the official API of Twitter in order to get the various information on twitter profiles."
   ]
  },
  {
   "cell_type": "code",
   "execution_count": 1,
   "metadata": {},
   "outputs": [
    {
     "data": {
      "text/plain": [
       "User(ID=204761432, ScreenName=Ivan_FCT)"
      ]
     },
     "execution_count": 1,
     "metadata": {},
     "output_type": "execute_result"
    }
   ],
   "source": [
    "import twitter\n",
    "import pandas as pd\n",
    "import json\n",
    "import datetime\n",
    "import csv\n",
    "import numpy as np\n",
    "from sklearn.decomposition import PCA\n",
    "import matplotlib.pyplot as plt\n",
    "from sklearn.cluster import KMeans\n",
    "from sklearn.cluster import KMeans\n",
    "\n",
    "api = twitter.Api(consumer_key='2Nn22OkPPZaBoarCjxcP7Tr70',\n",
    "                  consumer_secret='9VdkWxOFvmrnjEzbG3SoMkh9kPKB5ToHb6RKnwGyso8XrAlPk2',\n",
    "                  access_token_key='204761432-jUj8moOZ6ccKo7s48ufl8mpPB3amryzzvidYIhDA',\n",
    "                  access_token_secret='2XVFSENxf7RNqwysvHYsSh1j5itKpdItJtA6khjxd7Dxp',\n",
    "                  sleep_on_rate_limit = True )\n",
    "\n",
    "api.VerifyCredentials()\n"
   ]
  },
  {
   "cell_type": "markdown",
   "metadata": {},
   "source": [
    "## Crawling Twitter Friendship Data\n",
    "We started with an analysis based on friendship information. For each twitter's profile we get, throught the functions provided to Twitter API (getFriendsID(...) and getFollowersID(...)), we retrive the list of IDs that all our users follow and the list of IDs that follow our users. <br>\n",
    "This computation is very slow because Twitter API allow to retrive this information for 15 user every 15 minutes. So for each iteration we print summary information of the data obtained in order to try to understand at what point is the execution of the process."
   ]
  },
  {
   "cell_type": "code",
   "execution_count": null,
   "metadata": {},
   "outputs": [],
   "source": [
    "\n",
    "with open(\"S21.tsv\") as f:\n",
    "    reader = csv.reader(f)\n",
    "    s21 = []\n",
    "    for row in reader:\n",
    "        s21.append(int(row[0]))\n",
    "\n",
    "count = 0\n",
    "data = {}\n",
    " \n",
    "\n",
    "for id_user in s21:\n",
    "    if id_user in data.keys():\n",
    "        continue\n",
    "    else:\n",
    "        try:\n",
    "            data[id_user] = api.GetFriendIDs(user_id=id_user)\n",
    "            tot = len(data[id_user])\n",
    "            count += 1\n",
    "            with open(\"friends_id.json\", \"w\") as write_file:\n",
    "                json.dump(data, write_file)\n",
    "            print(id_user , ' ----> DONE! N°:', count, '- TOT_FRIENDS:', tot, '- WHEN: ', datetime.datetime.now().time())\n",
    "            write_file.close()\n",
    "        \n",
    "        except Exception as err:\n",
    "            print(err)\n",
    "            \n",
    "for id_user in s21:\n",
    "    if id_user in data.keys():\n",
    "        continue\n",
    "    else:\n",
    "        try:\n",
    "            data[id_user] = api.GetFollowerIDs(user_id=id_user)\n",
    "            tot = len(data[id_user])\n",
    "            count += 1\n",
    "            with open(\"followers_id.json\", \"w\") as write_file:\n",
    "                json.dump(data, write_file)\n",
    "            print(id_user , ' ----> DONE! N°:', count, '- TOT_FOLLOWERS:', tot, '- WHEN: ', datetime.datetime.now().time())\n",
    "            write_file.close()\n",
    "        \n",
    "        except Exception as err:\n",
    "            print(err)\n",
    "            \n",
    "\n",
    "        \n",
    "        "
   ]
  },
  {
   "cell_type": "markdown",
   "metadata": {},
   "source": [
    "After 30 hours of execution we have our list of friends and followers that we have stored in JSON file. <br>\n",
    "At this point we create the intersection of this two sets, in order to obtain only the IDs that follow our users and that our users following too."
   ]
  },
  {
   "cell_type": "code",
   "execution_count": 14,
   "metadata": {},
   "outputs": [
    {
     "name": "stdout",
     "output_type": "stream",
     "text": [
      "Tot friend_id keys: 1420\n",
      "Tot followers_id keys: 1433\n",
      "Tot keys in comune trovate: 1411\n",
      "Totale user trovati: 760810\n"
     ]
    }
   ],
   "source": [
    "with open(\"friends_id.json\", \"r\") as read_file:\n",
    "    friends = json.load(read_file)\n",
    "\n",
    "print('Tot friend_id keys:',len(friends.keys()))\n",
    "\n",
    "with open(\"followers_id.json\", \"r\") as read_file:\n",
    "    follows = json.load(read_file)\n",
    "    \n",
    "print('Tot followers_id keys:',len(follows.keys()))\n",
    "\n",
    "keys_a = set(friends.keys())\n",
    "keys_b = set(follows.keys())\n",
    "intersection = keys_a & keys_b\n",
    "\n",
    "print('Tot keys in comune trovate:',len(intersection))\n",
    "\n",
    "result = {}\n",
    "tot_follow = []\n",
    "for _id in intersection:\n",
    "    result[_id] = set(friends[_id]) & set(follows[_id])\n",
    "    \n",
    "for lista in result.values():\n",
    "    for v in lista:\n",
    "        tot_follow.append(v)\n",
    "    \n",
    "print('Totale user trovati:', len(set(tot_follow)))\n",
    "\n"
   ]
  },
  {
   "cell_type": "markdown",
   "metadata": {},
   "source": [
    "Now, at each ID of our intersection set we associate a number that we will use in the one hot encoding function below. <br>\n",
    "So user mapper's length is the same length of our intersection sets."
   ]
  },
  {
   "cell_type": "code",
   "execution_count": 3,
   "metadata": {},
   "outputs": [],
   "source": [
    "\n",
    "user_mapper = {}\n",
    "c = 0\n",
    "\n",
    "for user in result:\n",
    "    for follower in result[user]:\n",
    "        if follower not in user_mapper:\n",
    "            user_mapper[str(follower)] = c\n",
    "            c += 1\n"
   ]
  },
  {
   "cell_type": "code",
   "execution_count": 4,
   "metadata": {},
   "outputs": [
    {
     "data": {
      "text/plain": [
       "760810"
      ]
     },
     "execution_count": 4,
     "metadata": {},
     "output_type": "execute_result"
    }
   ],
   "source": [
    "len(user_mapper)"
   ]
  },
  {
   "cell_type": "markdown",
   "metadata": {},
   "source": [
    "The function one_hot_encoding take as parameter the list of intersection between followers/friends and the user mapper and create one hot vector for each user in S21 file, that is a vector with length of 760810 that have only zeros or 1."
   ]
  },
  {
   "cell_type": "code",
   "execution_count": 2,
   "metadata": {},
   "outputs": [],
   "source": [
    "def one_hot_encoding(follower_list, mapper):\n",
    "    v = np.zeros(len(mapper))\n",
    "    for follower in follower_list:\n",
    "        try:\n",
    "            position = mapper[str(follower)]\n",
    "            v[position] = 1\n",
    "        except:\n",
    "            pass\n",
    "    return v\n",
    "\n",
    "dataset = [one_hot_encoding(result[user], user_mapper) for user in result]\n",
    "len(dataset[1])"
   ]
  },
  {
   "cell_type": "markdown",
   "metadata": {},
   "source": [
    "In order to make our results viewable through plot we use PCA to obrain for each vector a couple of number."
   ]
  },
  {
   "cell_type": "code",
   "execution_count": 15,
   "metadata": {},
   "outputs": [],
   "source": [
    "del result\n",
    "pca = PCA(n_components=2).fit(dataset)\n",
    "pca_2d = pca.transform(dataset)"
   ]
  },
  {
   "cell_type": "code",
   "execution_count": 18,
   "metadata": {},
   "outputs": [],
   "source": [
    "pca_2d"
   ]
  },
  {
   "cell_type": "markdown",
   "metadata": {},
   "source": [
    "Our friendship information are not informative enough, this may be due to the few friendships our users have in common, in fact we can see how all the users, represented by points in the plot below, are concentrated in the same area. <br>\n",
    "So we can change our strategy!"
   ]
  },
  {
   "cell_type": "code",
   "execution_count": 23,
   "metadata": {},
   "outputs": [
    {
     "data": {
      "image/png": "[encoded data removed]",
      "text/plain": [
       "<matplotlib.figure.Figure at 0x11bbe09b0>"
      ]
     },
     "metadata": {},
     "output_type": "display_data"
    }
   ],
   "source": [
    "plt.figure(figsize=(12,10))\n",
    "plt.scatter(pca_2d[:, 0], pca_2d[:, 1])\n",
    "plt.show()"
   ]
  },
  {
   "cell_type": "code",
   "execution_count": 21,
   "metadata": {},
   "outputs": [],
   "source": [
    "kmeans = KMeans(n_clusters=2).fit(pca_2d)\n",
    "y_kmeans = kmeans.predict(pca_2d)"
   ]
  },
  {
   "cell_type": "markdown",
   "metadata": {},
   "source": [
    "## Crawling Twitter Hashtag Data\n",
    "We change our strategy: now we want explore the last hashtag used by our users given by the S21.tsv file! <br>\n",
    "This time we will use the function named GetUserTimeline(...) with parameter count=100, that give us the list of last 100 tweet for each user. Starting from this tweets we can retrieve the hashtag that each user have used."
   ]
  },
  {
   "cell_type": "code",
   "execution_count": null,
   "metadata": {},
   "outputs": [],
   "source": [
    "with open(\"S21.tsv\") as f:\n",
    "    reader = csv.reader(f)\n",
    "    s21 = []\n",
    "    for row in reader:\n",
    "        s21.append(int(row[0]))\n",
    "\n",
    "count = 0\n",
    "data = {}\n",
    " \n",
    "\n",
    "for id_user in s21:\n",
    "    if id_user in data.keys():\n",
    "        continue\n",
    "    else:\n",
    "        try:\n",
    "            t = api.GetUserTimeline(user_id=id_user, count=100)\n",
    "            tweets = [i.AsDict() for i in t]\n",
    "            data[id_user] = [tweet['hashtags'][0]['text'] for tweet in tweets if tweet['hashtags']]\n",
    "            tot = len(data[id_user])\n",
    "            count += 1\n",
    "            with open(\"hashtags.json\", \"w\") as write_file:\n",
    "                json.dump(data, write_file)\n",
    "            print(id_user , ' ----> DONE! N°:', count, '- TOT_HASHTAG:', tot, '- WHEN: ', datetime.datetime.now().time())\n",
    "            write_file.close()\n",
    "        \n",
    "        except Exception as err:\n",
    "            print(err)\n",
    "            \n",
    "\n",
    "        "
   ]
  },
  {
   "cell_type": "markdown",
   "metadata": {},
   "source": [
    "As before, we stored all the hashtag retrieved in a JSON file, then we map again all the hashtags and finally we create our second dataset with one hot vector for each user mapped on his hashtags. "
   ]
  },
  {
   "cell_type": "code",
   "execution_count": 4,
   "metadata": {},
   "outputs": [
    {
     "name": "stdout",
     "output_type": "stream",
     "text": [
      "Totale hashtag trovati: 11419\n",
      "Numero chiavi hash_mapper: 11419\n",
      "---> dataset_hash sarà una matrice 1422 x 11419\n"
     ]
    }
   ],
   "source": [
    "with open(\"hashtags.json\", \"r\") as read_file:\n",
    "    hashtags = json.load(read_file)\n",
    "\n",
    "tot_hash = []\n",
    "for lista in hashtags.values():\n",
    "    for v in lista:\n",
    "        tot_hash.append(v)\n",
    "    \n",
    "print('Totale hashtag trovati:', len(set(tot_hash)))\n",
    "\n",
    "h = 0\n",
    "hash_mapper = {}\n",
    "for hashtg in tot_hash:\n",
    "    if hashtg not in hash_mapper:\n",
    "        hash_mapper[str(hashtg)] = h\n",
    "        h += 1\n",
    "\n",
    "print('Numero chiavi hash_mapper:', len(hash_mapper.keys()))\n",
    "\n",
    "dataset_hash = [one_hot_encoding(hashtags[hashtg], hash_mapper) for hashtg in hashtags]\n",
    "print('---> dataset_hash sarà una matrice', len(dataset_hash), 'x', len(dataset_hash[0]))"
   ]
  },
  {
   "cell_type": "markdown",
   "metadata": {},
   "source": [
    "Again we compute PCA analysis in order to obtain results that we can plot"
   ]
  },
  {
   "cell_type": "code",
   "execution_count": 5,
   "metadata": {},
   "outputs": [],
   "source": [
    "pca = PCA(n_components=2).fit(dataset_hash)\n",
    "pca_2d = pca.transform(dataset_hash)"
   ]
  },
  {
   "cell_type": "code",
   "execution_count": 6,
   "metadata": {},
   "outputs": [
    {
     "data": {
      "text/plain": [
       "(1422, 2)"
      ]
     },
     "execution_count": 6,
     "metadata": {},
     "output_type": "execute_result"
    }
   ],
   "source": [
    "pca_2d.shape"
   ]
  },
  {
   "cell_type": "code",
   "execution_count": 7,
   "metadata": {},
   "outputs": [
    {
     "data": {
      "text/plain": [
       "array([[ 0.88422247, -0.00285513],\n",
       "       [-0.14671981, -0.00672723],\n",
       "       [-0.15131576, -0.00716176],\n",
       "       ...,\n",
       "       [-0.15712744, -0.00809285],\n",
       "       [-0.14671981, -0.00672723],\n",
       "       [-0.11236289, -0.01152587]])"
      ]
     },
     "execution_count": 7,
     "metadata": {},
     "output_type": "execute_result"
    }
   ],
   "source": [
    "pca_2d"
   ]
  },
  {
   "cell_type": "code",
   "execution_count": 8,
   "metadata": {},
   "outputs": [
    {
     "data": {
      "image/png": "[encoded data removed]",
      "text/plain": [
       "<Figure size 864x720 with 1 Axes>"
      ]
     },
     "metadata": {
      "needs_background": "light"
     },
     "output_type": "display_data"
    }
   ],
   "source": [
    "plt.figure(figsize=(12,10))\n",
    "plt.scatter(pca_2d[:, 0], pca_2d[:, 1])\n",
    "plt.show()"
   ]
  },
  {
   "cell_type": "markdown",
   "metadata": {},
   "source": [
    "Using hashtags as a comparison item between users we obtain a good result. All the users are clustered in 2 macro area where the red X are the centroids of the cluster and only few users are clustered in another point (this may refers to users with only 1 hashtag found)."
   ]
  },
  {
   "cell_type": "code",
   "execution_count": 9,
   "metadata": {},
   "outputs": [
    {
     "data": {
      "image/png": "[encoded data removed]",
      "text/plain": [
       "<Figure size 864x720 with 1 Axes>"
      ]
     },
     "metadata": {
      "needs_background": "light"
     },
     "output_type": "display_data"
    }
   ],
   "source": [
    "kmeans = KMeans(n_clusters=3).fit(pca_2d)\n",
    "y_kmeans = kmeans.predict(pca_2d)\n",
    "plt.figure(figsize=(12, 10))\n",
    "plt.scatter(pca_2d[:, 0], pca_2d[:, 1], c=y_kmeans, s=50)\n",
    "centroids = kmeans.cluster_centers_\n",
    "plt.scatter(pca_2d[:, 0], pca_2d[:, 1], c=y_kmeans, s=50);\n",
    "plt.scatter(centroids[:, 0], centroids[:, 1], s=200, marker='x', c='red')\n",
    "plt.show()"
   ]
  }
 ],
 "metadata": {
  "kernelspec": {
   "display_name": "Python 3",
   "language": "python",
   "name": "python3"
  },
  "language_info": {
   "codemirror_mode": {
    "name": "ipython",
    "version": 3
   },
   "file_extension": ".py",
   "mimetype": "text/x-python",
   "name": "python",
   "nbconvert_exporter": "python",
   "pygments_lexer": "ipython3",
   "version": "3.6.4"
  }
 },
 "nbformat": 4,
 "nbformat_minor": 2
}
